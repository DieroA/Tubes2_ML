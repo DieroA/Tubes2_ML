{
 "cells": [
  {
   "cell_type": "markdown",
   "id": "b8d50fb9",
   "metadata": {},
   "source": [
    "# CNN"
   ]
  },
  {
   "cell_type": "markdown",
   "id": "2817d001",
   "metadata": {},
   "source": [
    "## Fungsi dan Variabel"
   ]
  },
  {
   "cell_type": "code",
   "execution_count": 4,
   "id": "a1805de4",
   "metadata": {},
   "outputs": [],
   "source": [
    "import os\n",
    "os.environ[\"TF_ENABLE_ONEDNN_OPTS\"] = \"0\"\n",
    "os.environ[\"TF_CPP_MIN_LOG_LEVEL\"] = \"1\" \n",
    "\n",
    "import matplotlib.pyplot as plt\n",
    "\n",
    "from Datasets.cifar10 import x_train, y_train, x_val, y_val, x_test, y_test\n",
    "from Models.CNN.CNN import CNN\n",
    "from Models.CNN.training.configs import (\n",
    "    CONV_LAYER_VARIATIONS, FILTER_VARIATIONS, \n",
    "    KERNEL_SIZE_VARIATIONS, POOLING_VARIATIONS\n",
    ")\n",
    "\n",
    "SAVE_PATH = \"Models/CNN/training\""
   ]
  },
  {
   "cell_type": "code",
   "execution_count": 11,
   "id": "483f207f",
   "metadata": {},
   "outputs": [],
   "source": [
    "def plot_loss_curves(history, title):\n",
    "    \"\"\"Displays validation loss and training loss per epoch\"\"\"\n",
    "    \n",
    "    plt.plot(history.history[\"loss\"], label = \"Train Loss\")\n",
    "    plt.plot(history.history[\"val_loss\"], label = \"Validation Loss\")\n",
    "    plt.title(title)\n",
    "    plt.xlabel(\"Epoch\")\n",
    "    plt.ylabel(\"Loss\")\n",
    "    plt.legend()\n",
    "    plt.grid()\n",
    "    plt.show()"
   ]
  },
  {
   "cell_type": "code",
   "execution_count": 12,
   "id": "5a807d5f",
   "metadata": {},
   "outputs": [],
   "source": [
    "def train_and_evaluate_all(variation_dict, variation_name):\n",
    "    \"\"\"Train and evaluate CNN models for each config in variation_dict.\"\"\"\n",
    "    \n",
    "    print(f\"\\n\\n=== {variation_name} Variations ===\\n\")\n",
    "    for name, config in variation_dict.items():\n",
    "        print(f\"\\n--- Training: {name} ---\")\n",
    "\n",
    "        # Build\n",
    "        model = CNN.from_config(config)\n",
    "        model.weights_dir = f\"{SAVE_PATH}/weights/{variation_name}\"\n",
    "        model.build()\n",
    "\n",
    "        # Train & Evaluate\n",
    "        model.train(x_train, y_train, x_val, y_val)\n",
    "        y_pred_probs = model.model.predict(x_test)\n",
    "        model.evaluate(y_pred_probs, y_test)\n",
    "\n",
    "        # Save weights\n",
    "        model.save()\n",
    "\n",
    "        # Log results\n",
    "        print(f\"{name} | Macro F1 Score: {model.f1_score:.4f}\")\n",
    "        plot_loss_curves(model.history, f\"{name} | Training & Validation Loss\")"
   ]
  },
  {
   "cell_type": "markdown",
   "id": "4d0daa77",
   "metadata": {},
   "source": [
    "## Training"
   ]
  },
  {
   "cell_type": "markdown",
   "id": "e98c02bf",
   "metadata": {},
   "source": [
    "### Jumlah Layer Konvolusi"
   ]
  },
  {
   "cell_type": "code",
   "execution_count": 13,
   "id": "d7afa5eb",
   "metadata": {},
   "outputs": [],
   "source": [
    "train_and_evaluate_all(CONV_LAYER_VARIATIONS, \"ConvLayerCount\")"
   ]
  },
  {
   "cell_type": "markdown",
   "id": "81922619",
   "metadata": {},
   "source": [
    "### Banyak Filter"
   ]
  },
  {
   "cell_type": "code",
   "execution_count": 14,
   "id": "46829d67",
   "metadata": {},
   "outputs": [],
   "source": [
    "train_and_evaluate_all(FILTER_VARIATIONS, \"FilterSize\")"
   ]
  },
  {
   "cell_type": "markdown",
   "id": "ded09456",
   "metadata": {},
   "source": [
    "### Ukuran Filter"
   ]
  },
  {
   "cell_type": "code",
   "execution_count": 15,
   "id": "7d259e88",
   "metadata": {},
   "outputs": [],
   "source": [
    "train_and_evaluate_all(KERNEL_SIZE_VARIATIONS, \"KernelSize\")"
   ]
  },
  {
   "cell_type": "markdown",
   "id": "7cc67be7",
   "metadata": {},
   "source": [
    "### Tipe Pooling"
   ]
  },
  {
   "cell_type": "code",
   "execution_count": 16,
   "id": "07429f9a",
   "metadata": {},
   "outputs": [],
   "source": [
    "train_and_evaluate_all(POOLING_VARIATIONS, \"PoolingType\")"
   ]
  },
  {
   "cell_type": "markdown",
   "id": "1696a327",
   "metadata": {},
   "source": [
    "## Forward Propagation"
   ]
  },
  {
   "cell_type": "code",
   "execution_count": 1,
   "id": "4bc33ba0",
   "metadata": {},
   "outputs": [],
   "source": [
    "def compare_scratch_keras_cnn():\n",
    "    # Build CNN\n",
    "    cnn = CNN.from_config(CONV_LAYER_VARIATIONS[\"3 Layers\"])\n",
    "    cnn.build()\n",
    "\n",
    "    # Load Weights\n",
    "    cnn.load(\"ConvLayerCount/3layers_filters32-64-128_kernels3-3-3_poolmax.weights.h5\")\n",
    "\n",
    "    # Forward prop\n",
    "    output_scratch = cnn.forward_scratch(x_test)\n",
    "    output_keras = cnn.model.predict(x_test)\n",
    "    \n",
    "    # Evaluate\n",
    "    cnn.evaluate(output_scratch, y_test)\n",
    "    score_scratch = cnn.f1_score\n",
    "\n",
    "    cnn.evaluate(output_keras, y_test)\n",
    "    score_keras = cnn.f1_score\n",
    "\n",
    "    # Output\n",
    "    print(f\"From Scratch | F1-Score: {score_scratch}\")\n",
    "    print(f\"Keras | F1-Score: {score_keras}\")"
   ]
  },
  {
   "cell_type": "code",
   "execution_count": 5,
   "id": "4944cbd2",
   "metadata": {},
   "outputs": [],
   "source": [
    "compare_scratch_keras_cnn()"
   ]
  }
 ],
 "metadata": {
  "kernelspec": {
   "display_name": "venv",
   "language": "python",
   "name": "python3"
  },
  "language_info": {
   "codemirror_mode": {
    "name": "ipython",
    "version": 3
   },
   "file_extension": ".py",
   "mimetype": "text/x-python",
   "name": "python",
   "nbconvert_exporter": "python",
   "pygments_lexer": "ipython3",
   "version": "3.11.6"
  }
 },
 "nbformat": 4,
 "nbformat_minor": 5
}
